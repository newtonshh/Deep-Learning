{
 "cells": [
  {
   "cell_type": "code",
   "execution_count": 66,
   "metadata": {},
   "outputs": [],
   "source": [
    "import tensorflow as tf\n",
    "import numpy as np\n",
    "\n",
    "class MNISTLoader():\n",
    "    def __init__(self):\n",
    "        mnist = tf.keras.datasets.mnist\n",
    "        (self.train_data, self.train_flag), (self.test_data, self.test_flag) = mnist.load_data()\n",
    "        \n",
    "        self.train_data = np.expand_dims(self.train_data.astype(np.float32) / 255.0, axis = -1)\n",
    "        self.test_data = np.expand_dims(self.test_data.astype(np.float32) / 255.0, axis = -1)\n",
    "        \n",
    "        self.train_flag = self.train_flag.astype(np.int32)\n",
    "        self.test_flag = self.test_flag.astype(np.int32)\n",
    "        \n",
    "        self.train_num = self.train_data.shape[0]\n",
    "        self.test_num = self.test_data.shape[0]\n",
    "        \n",
    "        print(self.train_num, self.train_data.shape)\n",
    "        \n",
    "    def get_batch(self, batch_size):\n",
    "        index = np.random.randint(0, self.train_data.shape[0], batch_size)\n",
    "        return self.train_data[index, :], self.train_flag[index]"
   ]
  },
  {
   "cell_type": "code",
   "execution_count": 67,
   "metadata": {},
   "outputs": [
    {
     "name": "stdout",
     "output_type": "stream",
     "text": [
      "60000 (60000, 28, 28, 1)\n"
     ]
    }
   ],
   "source": [
    "data = MNISTLoader()"
   ]
  },
  {
   "cell_type": "code",
   "execution_count": 61,
   "metadata": {},
   "outputs": [],
   "source": [
    "class MLP(tf.keras.Model):\n",
    "    def __init__(self):\n",
    "        super().__init__()\n",
    "        self.flatten = tf.keras.layers.Flatten()\n",
    "        self.dense1 = tf.keras.layers.Dense(units = 100, activation = tf.nn.relu)\n",
    "        self.dense2 = tf.keras.layers.Dense(units = 10)\n",
    "        \n",
    "    def call(self, input):\n",
    "        x = self.flatten(input)\n",
    "        x = self.dense1(x)\n",
    "        x = self.dense2(x)\n",
    "        output = tf.nn.softmax(x)\n",
    "        return output"
   ]
  },
  {
   "cell_type": "code",
   "execution_count": 62,
   "metadata": {},
   "outputs": [],
   "source": [
    "class CNN(tf.keras.Model):\n",
    "    def __init__(self):\n",
    "        super().__init__()\n",
    "        \n",
    "        self.conv1 = tf.keras.layers.Conv2D(\n",
    "        filters = 32,\n",
    "        kernel_size = [5,5],\n",
    "        padding = \"same\",\n",
    "        activation = tf.nn.relu)\n",
    "        \n",
    "        self.pool1 = tf.keras.layers.MaxPool2D(pool_size = [2, 2], strides = 2)\n",
    "        \n",
    "        self.conv2 = tf.keras.layers.Conv2D(\n",
    "        filters = 64,\n",
    "        kernel_size = [5, 5],\n",
    "        padding = \"same\",\n",
    "        activation = tf.nn.relu)\n",
    "        \n",
    "        self.pool2 = tf.keras.layers.MaxPool2D(pool_size = [2, 2], strides = 2)\n",
    "        \n",
    "        self.flatten = tf.keras.layers.Reshape(target_shape = (7 * 7 * 64, ))\n",
    "        \n",
    "        self.dense1 = tf.keras.layers.Dense(units = 1024, activation = tf.nn.relu)\n",
    "        self.dense2 = tf.keras.layers.Dense(units = 10)\n",
    "        \n",
    "        \n",
    "    def call(self, input):\n",
    "        x = self.conv1(input)\n",
    "        x = self.pool1(x)\n",
    "        x = self.conv2(x)\n",
    "        x = self.pool2(x)\n",
    "        x = self.flatten(x)\n",
    "        x = self.dense1(x)\n",
    "        x = self.dense2(x)\n",
    "        output = tf.nn.softmax(x)\n",
    "        return output"
   ]
  },
  {
   "cell_type": "code",
   "execution_count": 63,
   "metadata": {},
   "outputs": [
    {
     "name": "stdout",
     "output_type": "stream",
     "text": [
      "60000 (60000,)\n",
      "(50, 28, 28, 1)\n",
      "(50,) (50, 10)\n",
      "batch: 0, loss: 2.318369\n",
      "(50, 28, 28, 1)\n",
      "(50,) (50, 10)\n",
      "batch: 1, loss: 2.234157\n",
      "(50, 28, 28, 1)\n",
      "(50,) (50, 10)\n",
      "batch: 2, loss: 2.060000\n",
      "(50, 28, 28, 1)\n",
      "(50,) (50, 10)\n",
      "batch: 3, loss: 1.955134\n",
      "(50, 28, 28, 1)\n",
      "(50,) (50, 10)\n",
      "batch: 4, loss: 1.749707\n",
      "(50, 28, 28, 1)\n",
      "(50,) (50, 10)\n",
      "batch: 5, loss: 1.478910\n",
      "(50, 28, 28, 1)\n",
      "(50,) (50, 10)\n",
      "batch: 6, loss: 1.459552\n",
      "(50, 28, 28, 1)\n",
      "(50,) (50, 10)\n",
      "batch: 7, loss: 0.956123\n",
      "(50, 28, 28, 1)\n",
      "(50,) (50, 10)\n",
      "batch: 8, loss: 1.139385\n",
      "(50, 28, 28, 1)\n",
      "(50,) (50, 10)\n",
      "batch: 9, loss: 0.964800\n"
     ]
    }
   ],
   "source": [
    "num_epochs = 5\n",
    "batch_size = 50\n",
    "learning_rate = 0.001\n",
    "\n",
    "module = CNN()\n",
    "data_loader = MNISTLoader()\n",
    "optimizer = tf.keras.optimizers.Adam(learning_rate)\n",
    "\n",
    "num_batchs = int(data_loader.train_num / batch_size * num_epochs)\n",
    "for batch_index in range(10):\n",
    "    X, y = data_loader.get_batch(batch_size)\n",
    "    with tf.GradientTape() as tape:\n",
    "        y_pred = module(X)\n",
    "        print(X.shape)\n",
    "        print(y.shape, y_pred.shape)\n",
    "        loss = tf.keras.losses.sparse_categorical_crossentropy(y_true = y, y_pred = y_pred)\n",
    "        loss = tf.reduce_mean(loss)\n",
    "        print(\"batch: %d, loss: %f\" %(batch_index, loss.numpy()))\n",
    "        \n",
    "    grads = tape.gradient(loss, module.variables)\n",
    "    optimizer.apply_gradients(grads_and_vars = zip(grads, module.variables))"
   ]
  },
  {
   "cell_type": "code",
   "execution_count": 68,
   "metadata": {},
   "outputs": [
    {
     "name": "stdout",
     "output_type": "stream",
     "text": [
      "(10000,)\n",
      "test saccuracy: 0.600000\n"
     ]
    }
   ],
   "source": [
    "sparse_categorical_accuracy = tf.keras.metrics.SparseCategoricalAccuracy()\n",
    "num_batchs = int(data_loader.test_num / batch_size)\n",
    "for batch_index in range(10):\n",
    "    start_index, end_index = batch_index * batch_size, (batch_index + 1) * batch_size\n",
    "    y_pred = module.predict(data_loader.test_data[start_index:end_index])\n",
    "    \n",
    "sparse_categorical_accuracy.update_state(y_true = data_loader.test_flag[start_index:end_index], y_pred = y_pred)\n",
    "print(data_loader.test_flag.shape)\n",
    "print(\"test saccuracy: %f\" % sparse_categorical_accuracy.result())"
   ]
  },
  {
   "cell_type": "code",
   "execution_count": null,
   "metadata": {},
   "outputs": [],
   "source": []
  }
 ],
 "metadata": {
  "kernelspec": {
   "display_name": "tensor",
   "language": "python",
   "name": "tensor"
  },
  "language_info": {
   "codemirror_mode": {
    "name": "ipython",
    "version": 3
   },
   "file_extension": ".py",
   "mimetype": "text/x-python",
   "name": "python",
   "nbconvert_exporter": "python",
   "pygments_lexer": "ipython3",
   "version": "3.7.13"
  }
 },
 "nbformat": 4,
 "nbformat_minor": 2
}
